{
 "cells": [
  {
   "cell_type": "code",
   "execution_count": 5,
   "metadata": {},
   "outputs": [],
   "source": [
    "import re\n",
    "import csv\n",
    "from os import listdir\n",
    "from os.path import isfile, join\n",
    "\n",
    "scriptpath = \"./MCUMovieScripts/\"\n",
    "scripts = []\n",
    "filename = \"character_dialogues.csv\"\n",
    "col_keys=['character', 'dialogue','wordcount', 'movie']"
   ]
  },
  {
   "cell_type": "code",
   "execution_count": 6,
   "metadata": {},
   "outputs": [
    {
     "name": "stdout",
     "output_type": "stream",
     "text": [
      "antman.txt\n",
      "avengers_age_of_ultron.txt\n",
      "avengers_endgame.txt\n",
      "avengers_infinity_war.txt\n",
      "captain_america_civil_war.txt\n",
      "captain_america_first_avenger.txt\n",
      "captain_america_winter_soldier.txt\n",
      "captain_marvel.txt\n",
      "guardians_of_the_galaxy_vol1.txt\n",
      "guardians_of_the_galaxy_vol2.txt\n",
      "iron_man_1.txt\n",
      "iron_man_2.txt\n",
      "iron_man_3.txt\n",
      "spiderman_far_from_home.txt\n",
      "spiderman_homecoming.txt\n",
      "the_avengers.txt\n",
      "thor.txt\n",
      "thor_dark_world.txt\n",
      "thor_ragnarok.txt\n"
     ]
    }
   ],
   "source": [
    "with open(filename,'w',encoding='utf-8') as file:\n",
    "    writer=csv.DictWriter(file,fieldnames=col_keys)\n",
    "    writer.writeheader()\n",
    "\n",
    "ch_edges = {}\n",
    "onlyfiles = [f for f in listdir(scriptpath) if isfile(join(scriptpath, f))]\n",
    "for f in onlyfiles:\n",
    "    scripts.append(f)\n",
    "    movie = re.sub(\".txt\", \"\", f)\n",
    "    filepath = f\n",
    "    print(f)\n",
    "        \n",
    "    with open(scriptpath+filepath,encoding='utf-8') as fp:\n",
    "        line = fp.readlines()\n",
    "            \n",
    "    for i in range(0,len(line)):\n",
    "        #print(i,line[i])\n",
    "        if ':' in line[i] and line[i][0]!='[' and line[i][0]!='(':\n",
    "            character = line[i][:line[i].index(\":\")]\n",
    "            text=line[i][line[i].index(\":\")+1:]\n",
    "            text=text.replace(\"[\",\"<\")\n",
    "            text=text.replace(\"]\",\">\")\n",
    "            text=' '.join(re.sub('<[^>]+>', '', text).split())\n",
    "            text=' '.join(re.sub(\"(@[A-Za-z]+)|([^A-Za-z \\t])|(\\w+:\\/\\/\\S+)\", \" \", text).split())\n",
    "            wordcount=len(text.split())\n",
    "\n",
    "            with open(filename,'a',encoding='utf-8') as file:\n",
    "                writer=csv.DictWriter(file,fieldnames=col_keys)\n",
    "                new_row={'character': character, 'dialogue': text, 'wordcount':wordcount, 'movie': movie}\n",
    "                writer.writerow(new_row)\n",
    "\n",
    "            if i+1<len(line):\n",
    "                j=i+1\n",
    "                if ':' in line[j] and line[j][0]!='[' and line[j][0]!='(':\n",
    "                    character2 = line[j][:line[j].index(\":\")]\n",
    "                    cc = [character,character2]\n",
    "                    cc.sort()\n",
    "                    #print(cc)\n",
    "                    r = cc[0]+\"*-*\"+cc[1]\n",
    "                    if(r not in ch_edges.keys()):\n",
    "                        ch_edges[r]=1\n",
    "                    else:\n",
    "                        ch_edges[r]+=1\n",
    "        "
   ]
  },
  {
   "cell_type": "code",
   "execution_count": 7,
   "metadata": {},
   "outputs": [],
   "source": [
    "n=1\n",
    "ch_nodes = {}\n",
    "f1 = \"edges.csv\"\n",
    "f2 = \"nodes.csv\"\n",
    "    \n",
    "with open(f1, 'w') as csvfile1, open(f2, 'w') as csvfile2: \n",
    "    w1 = csv.writer(csvfile1) \n",
    "    w2 = csv.writer(csvfile2) \n",
    "    w1.writerow(['Source','Target'])\n",
    "    w2.writerow(['Id','Label'])\n",
    "    for i in ch_edges:\n",
    "        if ch_edges[i]>10:\n",
    "            c=i.split('*-*')\n",
    "            if c[0] not in ch_nodes.keys():\n",
    "                ch_nodes[c[0]]=n\n",
    "                w2.writerow([n,c[0]])\n",
    "                n+=1\n",
    "            if c[1] not in ch_nodes.keys():\n",
    "                ch_nodes[c[1]]=n\n",
    "                w2.writerow([n,c[1]])\n",
    "                n+=1\n",
    "            w1.writerow([ch_nodes[c[0]],ch_nodes[c[1]]])\n",
    "                "
   ]
  },
  {
   "cell_type": "code",
   "execution_count": null,
   "metadata": {},
   "outputs": [],
   "source": [
    "for i in ch_edges:\n",
    "    if ch_edges[i]>10:\n",
    "        print(i,ch_edges[i])"
   ]
  },
  {
   "cell_type": "code",
   "execution_count": null,
   "metadata": {},
   "outputs": [],
   "source": []
  }
 ],
 "metadata": {
  "kernelspec": {
   "display_name": "Python 3",
   "language": "python",
   "name": "python3"
  },
  "language_info": {
   "codemirror_mode": {
    "name": "ipython",
    "version": 3
   },
   "file_extension": ".py",
   "mimetype": "text/x-python",
   "name": "python",
   "nbconvert_exporter": "python",
   "pygments_lexer": "ipython3",
   "version": "3.7.6"
  }
 },
 "nbformat": 4,
 "nbformat_minor": 4
}
