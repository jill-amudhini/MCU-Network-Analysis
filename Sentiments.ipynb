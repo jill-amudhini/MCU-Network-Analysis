{
 "cells": [
  {
   "cell_type": "code",
   "execution_count": 1,
   "metadata": {},
   "outputs": [],
   "source": [
    "import csv\n",
    "from vaderSentiment.vaderSentiment import SentimentIntensityAnalyzer\n",
    "analyzer = SentimentIntensityAnalyzer()\n",
    "filename = \"character_dialogues.csv\"\n",
    "col_keys=['character', 'dialogue','wordcount', 'movie']\n",
    "sentiment={}\n",
    "count={}"
   ]
  },
  {
   "cell_type": "code",
   "execution_count": 2,
   "metadata": {},
   "outputs": [
    {
     "name": "stdout",
     "output_type": "stream",
     "text": [
      "{'neg': 0.0, 'neu': 0.508, 'pos': 0.492, 'compound': 0.4404}\n",
      "{'neg': 0.538, 'neu': 0.462, 'pos': 0.0, 'compound': -0.5423}\n"
     ]
    }
   ],
   "source": [
    "vs1 = analyzer.polarity_scores(\"That book is good\")\n",
    "print(vs1)\n",
    "vs2 = analyzer.polarity_scores(\"That book is bad\")\n",
    "print(vs2)"
   ]
  },
  {
   "cell_type": "code",
   "execution_count": 3,
   "metadata": {},
   "outputs": [],
   "source": [
    "with open(filename, 'r') as file:\n",
    "    csv_file = csv.DictReader(file)\n",
    "    for row in csv_file:\n",
    "        r=dict(row)\n",
    "        vs=analyzer.polarity_scores(r['dialogue'])\n",
    "        if(r['character'] not in sentiment.keys()):\n",
    "            sentiment[r['character']]=vs['compound']\n",
    "            count[r['character']]=1\n",
    "        else:\n",
    "            sentiment[r['character']]=(sentiment[r['character']]+vs['compound'])/2\n",
    "            count[r['character']]+=1"
   ]
  },
  {
   "cell_type": "code",
   "execution_count": 4,
   "metadata": {},
   "outputs": [],
   "source": [
    "opfile=\"sentiments.csv\"\n",
    "newcol_keys=['character', 'sentiment']\n",
    "with open(opfile,'w',encoding='utf-8') as file:\n",
    "    writer=csv.DictWriter(file,fieldnames=newcol_keys)\n",
    "    writer.writeheader()"
   ]
  },
  {
   "cell_type": "code",
   "execution_count": 5,
   "metadata": {},
   "outputs": [],
   "source": [
    "for i in sentiment:\n",
    "    with open(opfile,'a',encoding='utf-8') as file:\n",
    "        writer=csv.DictWriter(file,fieldnames=newcol_keys)\n",
    "        if count[i]>100:\n",
    "            new_row={'character': i, 'sentiment': sentiment[i]}\n",
    "            writer.writerow(new_row)"
   ]
  },
  {
   "cell_type": "code",
   "execution_count": 5,
   "metadata": {},
   "outputs": [
    {
     "name": "stdout",
     "output_type": "stream",
     "text": [
      "{'Dr. Hank Pym': -0.118876644631644, 'Mitchell Carson': 0.12289921875000001, 'Howard Stark': 0.4903280428112395, 'Peggy Carter': 0.27874693679649865, 'Peachy': 0.050875000000000004, 'Scott Lang / Ant-Man': -0.10520219411683811, 'Luis': 0.45293120806863596, 'Ice Cream Store Customer': 0.24255, 'Dale': -0.18884531250000003, 'Dave': 0.21192810116185573, 'Kurt': -0.022615874821320176, 'Pym Tech Gate Guard': 0.0, 'Pym Tech Security Guard': 0.12155, 'Pym Tech Employee': 0.0, 'Hope van Dyne / Wasp': -0.2112378500364588, 'Darren Cross / Yellowjacket': 0.14829902275177276, 'Carson': -0.296, 'Video Voice Over': -0.23245000000000002, 'Frank': 0.0749375, 'Cassie Lang': 0.15185162110328676, 'Paxton': 0.24708758187832264, 'Hideous Rabbit': 0.4939, 'Maggie Lang': 0.20270011901855467, 'Scott': 0.4215, 'Cab Driver': -0.6808, 'Cop on Speaker': -0.34, 'Detective': -0.31245, 'Voice over Radio': 0.0, 'Sam Wilson / Falcon': 0.0003310714011836545, 'Scot Lang': -0.2263, 'Alpha Guard': 0.0, 'Gale': 0.039999999999999994, 'Computer': 0.015625, 'Cell Phone': 0.2023, 'Pool BBQ Dad': 0.0, 'Police Radio': 0.4215, 'Steve Rogers / Captain America': 0.3707368262922182, 'Announcer': -0.28459375, 'Tony Stark / Iron Man': 0.10134594283172824, 'J.A.R.V.I.S. / Vision': -0.11510223625399113, 'Thor': -0.039634930789754, 'Natasha Romanoff / Black Widow': 0.348679201289395, 'Clint Barton / Hawkeye': 0.2576554185994597, 'Baron Wolfgang von Strucker': 0.46482000274658203, 'Fortress Soldier': -0.047525, 'Other Fortress Soldier': -0.4588, 'Dr. List': 0.1668, 'Iron Legion': 0.17569375, 'Soldiers': -0.148, 'Pietro Maximoff': 0.024748419880867005, 'AVENGERS': 0.0, 'Bruce Banner / Hulk': 0.2339460186083474, 'Agent Agent Maria Hill': 0.0, 'Agent Maria Hill': 0.18771452957071588, 'Dr. Helen Cho': 0.018747055053710937, 'Ultron': -0.30059308686734454, 'James Rhodes / War Machine': 0.39067853806725156, 'Party Guest': 0.31245, 'Stan Lee': -0.18564999999999998, 'Wanda Maximoff': -0.049450294582691345, 'Ulysses Klaue': -0.06919531250000001, \"Klaue's Mercenary\": 0.0, 'Ballet Instructor': 0.0, 'Madame B': 0.006187499999999985, 'Heimdall': 0.08139587053626869, 'Laura Barton': 0.02103653564453125, 'Lila Barton': 0.15725, 'Nick Fury': 0.03358832206343969, 'Dr. Erik Selvig': -0.19521101901167742, 'World Hub Tech': 0.0, 'FRIDAY': -0.0883471880205936, 'Soldier': 0.08412499999999999, 'Specialist Cameron Klein': 0.2409, 'Zrinka': 0.0, 'Thanos': 0.020441141723906306, 'Cooper Barton': 0.21075, 'Nathaniel Barton': 0.0, 'Nebula': -0.17659269531092814, 'Pepper Potts': 0.02047628856709801, 'Rocket': 0.002854587008919336, 'Carol Danvers / Captain Marvel': -0.2702317050528461, 'Joe Russo': -0.276225, 'Jim Starlin': 0.0, 'Okoye': -0.0205175048828125, 'Morgan Stark': 0.15136705169677733, 'GIRL': 0.19990000000000002, 'BOY': -0.5267, 'Valkyrie': -0.04506297302674046, 'Korg': 0.12129288577381486, 'THUG #1': 0.0, 'Akihiko': -0.029162500000000036, 'The Ancient One': -0.05115750122070313, 'Gamora': 0.017460726270073813, 'Loki': 0.38718378216782623, 'Sitwell': 0.16643750000000002, 'Brock Rumlow': -0.11014968977913145, 'Alexander Pierce': 0.11907583763226615, 'HYDRA AGENT': 0.4939, 'Ebony Man': 0.01702734375, 'Frigga': 0.002840118899042024, 'ASGARDIAN SOLDIER (2013)': 0.0, 'STAN LEE': 0.4049, 'ELEVATOR LADY': 0.23224999999999998, 'CAPTAIN STEVENS (STEVE ROGERS)': 0.56535, 'Hank Pym': 0.027500000000000004, 'SECURITY OFFICER': 0.2383, 'Edwin Jarvis': 0.0, 'Johann Schmidt / Red Skull': -0.06316275600070806, 'EVERYONE': 0.3536, 'Dr. Stephen Strange': 0.1894872295977886, 'Wong': 0.0662515625, 'Peter Parker / Spider-Man': 0.08370499196975478, 'Peter Quill / Star-Lord': -0.10823105275936334, 'Hope Van Dyne / Wasp': -0.0903, 'Corvus Glaive': 0.25115, \"T'Challa / Black Panther\": 0.2244545781686644, 'Happy Hogan': 0.09216806991626741, 'Drax the Destroyer': -0.0016921483425387743, 'Mantis': 0.32692223337103987, 'Groot': 3.572466084733605e-10, 'Bucky Barnes / Winter Soldier': -0.0019026540282286205, 'Asgardian PA': -0.926, 'Ebony Maw': 0.29481803866624834, 'Proxima Midnight': -0.180175, 'Ned Leeds': 0.3135852403907824, 'School Bus Driver, Stan Lee': 0.0258, 'Cull Obsidian': 0.0, \"Gamora's Mother\": 0.7003, 'Child of Thanos': 0.0, 'Collector': 0.39944999999999997, 'Thaddeus Ross': -0.2397806456565857, 'Eitri': 0.17232014846801758, 'Doctor Strange': 0.0, \"King T'Challa / Black Panther\": 0.0, 'Shuri': -0.013306249999999999, 'Jabari Warriors': 0.29295, \"M'Baku\": 0.0, 'Dome Control': -0.128, 'Thanos *with a slight echo*': 0.0, 'Captain America': -0.5994, 'Vasily Karpov': 0.08134033203125, 'Mercenary': -0.296, 'Mercenary #1': -0.33915, 'Mercenary #2': 0.0, 'Maria Stark': -0.04400312500000001, 'MIT teacher': 0.039799999999999995, \"Stark's Assistant\": -0.5173, 'Mrs. Spencer': 0.448375, 'Mrs Spencer': -0.8183, 'Helmut Zemo': -0.28484882945620754, 'Priest': 0.4767, 'Sharon Carter': 0.18454596977819457, 'News Anchor #3': 0.6705, 'UN staffer': 0.14200000000000002, \"King T'Chaka\": 0.5194156249999999, 'Man on speakers': 0.3182, 'News anchor #4': -0.601075, 'German Innkeeper': 0.2029375, 'GSG-9 Soldier': -0.3479, 'GSG-9 Driver': 0.0, 'Delivery Truck Driver': 0.0415875, 'Custodian': 0.0, 'Man on PA #1': 0.0, \"Zemo's Wife\": 0.7697499999999999, 'News anchor #5': -0.9042, 'Josef / Super Soldier #1': -0.4767, 'May Parker': -0.34118437354434517, 'Attache': 0.0258, 'Security Chief': 0.0, 'Man on PA #2': -0.3818, 'Inside is a vast, gloomy space cramped with shelves stacked with filing boxes. Zemo moves a ladder along and searches the boxes. he climbs up the ladder and removes a filing box labeled': 0.0, 'Guard': 0.02531953125, 'FedEx Driver Stan Lee': -0.4404, 'Search Team Leader': -0.2836125, 'SHIELD Tech': -0.0386, 'SHIELD Lieutenant': 0.3390125, 'Voice from Earpiece': 0.0, 'Jan': -0.13775, 'Tower Keeper': -0.26742187500000003, 'Hydra Lieutenant': 0.20095, '4F Doctor': -0.09088125, 'Enlistment Guy': 0.0, 'Commercial Announcer': 0.11155000000000004, 'Loud Jerk': 0.164925, 'Steve Roger / Captain America': 0.0, 'Connie': 0.0683, 'Expo Announcer': 0.886, 'Mandy': 0.0, 'Random Woman': 0.31845, 'Woman': 0.0, 'Young Doctor': 0.0, 'Dr. Abraham Erskine': -0.005959335217504497, 'Dr. Arnim Zola': 0.034145878800907234, 'Officer': 0.092875, 'Gilmore Hodge': 0.29125, 'Colonel Chester Phillips': 0.02926555498410133, 'Sergeant Duffy': -0.100475, 'Antique Store Owner': 0.5719, 'Senator Brandt': 0.5758796875000001, 'Heinz Kruger': -0.010849999999999999, 'SSR Doctor': 0.296, 'Taxi Driver': 0.0, 'Mother': -0.33914999999999995, 'Young Boy': -0.074, 'Hutter': -0.329875, 'Schneider': 0.11532500000000001, 'Roeder': -0.21533750000000002, 'HYDRA technicians': 0.0772, 'Brandtâ€™s Aide': -0.07008750000000001, 'USO Singer': 0.07894375000000001, 'Director': -0.030501171874999997, 'Kids in USO Audience': 0.0, 'Army Heckler#1': 0.3243, 'Army Heckler#2': 0.4215, 'Army Heckler#3': 0.0, 'Army Heckler#4': 0.0, 'USO girl': 0.0, 'Dum Dum Dugan': 0.16795625, 'HYDRA guards': 0.0, 'Gabe Jones': -0.03704375, 'James Montgomery Falsworth': -0.013494531249999999, 'Jim Morita': -0.14086953124999999, 'Corporal': 0.4019, 'Man#1': 0.0, 'Man#2': 0.0, 'General': 0.360465625, 'Dernier': -0.455, 'Barkeeper': 0.0, 'Pvt. Lorraine': 0.4287625, 'Facility Manager': -0.3818, 'Jacques Dernier': 0.0, 'Man on the Radio': 0.7351, 'Jaques Dernier': 0.0, 'Hydra Soldier': 0.0, 'Johan Schmidt': -0.5233, 'Starkâ€™s Engineer': 0.09505, 'Dodgers Announcer': 0.47635, 'SHIELD Agent': 0.0017203125, 'Pilot': -0.305290625, 'STRIKE Agent': 0.0, 'French Pirate #1': -0.030465624999999996, 'Georges Batroc': 0.5705, 'French Pirate': 0.0502375, 'Durand': 0.2263, 'French Pirate #2': 0.2263, 'The Smithsonian Narrator': 0.2955, 'Woman on PA': 0.2294, 'Old Footage Recording': 0.4019, 'SHIELD Computer': 0.3676021484375, 'Councilman Rockwell': -0.092933203125, 'Councilman Singh': -0.21845000000000003, 'Councilwoman Hawley': 0.0, 'Councilman Yen': 0.148, 'Female War Veteran': -0.033725000000000005, \"Fury's Car\": 0.10637158203125001, 'Male Nurse': -0.35995, 'Female Nurse': -0.20095, 'Doctor': -0.27273203125, 'Doctor #1': -0.296, 'Jasper Sitwell': -0.1719965038895607, 'STRIKE Agent #1': 0.0, 'STRIKE Agent #2': 0.4019, 'SHIELD Agent #1': 0.0, 'SHIELD Agent #2': -0.26665, 'STRIKE Agent #3': 0.0, '25th Floor STRIKE Agent': -0.2732, 'Quinjet Pilot': 0.0, 'Apple Employee': 0.42486250000000003, 'Jack Rollins': -0.5719, 'SHIELD Agent #3': -0.5719, 'Renata': 0.005074999999999996, 'Senator Stern': 0.24987531248881717, 'Scientist #1': -0.15480000000000002, 'Smithsonian Guard': -0.6825, 'Man on PA': 0.1909, 'Councilman Hawley': 0.5859, 'Com Tech #1': -0.09545, 'Com Tech #2': 0.0, 'Charlie Weapons Tech': -0.13790625, 'SHIELD Pilot': 0.4019, 'HYDRA Dispatch': 0.0, 'Charlie XO': -0.030549999999999997, 'Bailiff': 0.0405, 'Committee General': 0.393425, 'Scudder': 0.2553, 'List': -0.0714875, 'Yon-Rogg': 0.0792686197515714, 'Electronic Voice-Over (from billboard)': -0.4767, 'Yon-Rogg (annoyed)': -0.296, 'Yon-Rogg (amused)': 0.0, 'Supreme Intelligence': -0.051304928588867184, 'Att-Lass': -0.21325625, 'Korath': 0.08949887800216674, 'Bron-Char': 0.00586015625, 'Minn-Erva': -0.13497187500000002, 'Vers, Bron-Char, Korath, Minn-Erva and Att-Lass': 0.4404, 'Locals': 0.0, 'Soh-Larr': 0.0, 'General Talos': 0.32826041627222813, 'Skrull Tech': 0.0, 'Skrull Scientist': 0.0, 'Maria Rambeau': 0.2559048945339815, 'Boy': 0.0, 'Joseph Danvers': -0.6808, 'Cadets': -0.8127, 'Drill Instructor': 0.0, \"Vers' Brother\": 0.2263, 'Wendy Lawson': -0.3154299062252045, 'Skrull': 0.0, 'Security Officer': 0.148, 'Agent Phil Coulson': 0.5297478776913992, 'Biker': 0.32389999999999997, 'Medical Examiner': 0.12765, 'Director (whispers)': 0.7269, 'Bartender': 0.0, 'Security Checkpoint': 0.05135, 'Security': 0.2294875, 'Lawson': -0.7269, 'Agent': -0.1389375, 'Ronan': 0.020128222007350996, 'Monica Rambeau': 0.024740886338055133, 'Tom': 0.1220375, 'Soren': -0.015975, 'Scanner': -0.5986, 'Kree': 0.0, 'Accuser': -0.023775, \"Quill's grandfather\": 0.18581874999999998, 'Meredith Quill': 0.47108310546875, 'Bereet': 0.0, 'News Reporter': -0.439875, 'Yondu Udonta': -0.030604754148145702, 'Kraglin': 0.18058483089730146, 'Horuz': 0.3715, 'Xandarian Prisoner': 0.27115, 'The Broker': 0.27228515625, 'Nova Arresting Pilot': -0.4819, 'Corpsman Dey': -0.3269783569335938, 'Nova Prime': 0.5009203125, 'Kree Ambassador': 0.3231, 'Denarian Saal': -0.062642578125, 'Prison Guard': 0.0, 'Head Riot Guard': 0.097825, 'The Collector': 0.20652770175933838, 'Carina': -0.061440625, 'Knowhere Kid': 0.0386, 'Bar Bouncer': 0.0, 'Knowhere Civilian': -0.296, 'Ravager Pilot': -0.2553, 'Ravager Navigator': 0.0, 'Nova Pilot #1': 0.0, 'Nova Pilot #2': 0.0, 'Maskless Sakaaran': -0.765, 'Nova Pilot': 0.0, \"Rocket'\": 0.4939, 'Howard the Duck': 0.0772, 'Ego': -0.26162919797061734, 'Ayesha': 0.15985800573825837, 'SOVEREIGN PILOT': -0.8176, 'Admiral': -0.56025, 'FRIGHTENED PILOT': -0.2202, 'SUPER BERHERT': 0.0, 'Tullk': -0.010431249999999996, 'Stakar': -0.35313544921875, 'PROPRIETOR': 0.3182, 'Taserface': -0.07085195603370667, 'Retch': 0.0296, 'TALL RAVAGER': 0.0, 'BRAHL': -0.2479, 'Oblo': 0.20095, 'Half-nut': 0.5719, 'SCURRILOUS RAVAGER': 0.0, 'CHAMBERMAID': 0.0, 'GAMORA                      Nebula': -0.5423, 'OFFICER FITZGIBBON': 0.5994, 'GRANDPA Peter Quill / Star-Lord': 0.0, 'Martinex': 0.0, 'Charlie-27': 0.3243, 'Aleta': -0.2202, 'Mainframe': -0.4466, 'Chambermaid': 0.0, 'ADOLESCENT Groot': 0.0, 'Soldier (female)': -0.038775, 'Soldier (Jimmy)': -0.1265875, 'Voice over': 0.9578, 'Obadiah Stane': -0.23120708797859724, 'Dealer': 0.0, 'Christine Everhart': 0.4974105690660923, 'Flight Attendant #1': 0.2202, 'Flight Attendant #2': 0.0, 'Ho Yinsen': 0.017351900956126456, 'Man #1': -0.14805000000000001, 'Man #2': 0.0, 'Raza': -0.353868359375, 'Man': 0.06622087249755859, 'Reporters': 0.0, 'Reporter (Ben)': 0.0, 'Newcaster': -0.5719, 'TV Reporter': -0.515425, 'Reporter': 0.1462, 'Captain': -0.139925, 'CAOC Analyst #1': -0.251975, 'Major Allen': 0.2921538375854492, 'CAOC Analyst (offscreen)': -0.0507875, 'CAOC Analyst #2': -0.1591, 'CAOC Analyst #3': 0.0, 'Pilot #1': 0.0421578125, 'Pilot #2': 0.2734125, 'Tony Stark1': 0.0, 'Tony (V.O.)': -0.02729999999999999, 'Christine Everhart (V.O.)': 0.0772, 'Christine (V.O.)': -0.3818, 'Tony (on TV)': 0.24119999999999997, 'Anton Vanko': -0.0386, 'Ivan Vanko / Whiplash': 0.008759296144227852, 'Man (V.O)': 0.128, 'Pretty much everyone in the crowd': 0.0, 'Man in crowd': 0.0, 'Woman in crowd': 0.6369, 'People': 0.0, 'Larry': 0.0, 'Marshal': 0.18748125000000002, 'Justin Hammer': 0.4411102249010848, 'TV Justin Hammer': -0.5267, 'Mr Musk': 0.440825, 'Tony (on TV behind Justin)': 0.2732, 'Someone in background': 0.0, 'Police officer [French]': -0.064, 'Tony [French]': 0.0, 'Police Officer [French]': 0.2589, 'Jack': 0.0004625000000000046, 'Ivan [Russian]': 0.0, 'News reader (on television)': 0.0, 'News reader': 0.5267, 'Person': 0.4404, 'Goldstein': 0.4019, 'SHIELD agent': 0.2144, 'Natalie/Agent Romanoff': -0.7579, 'Agent Romanoff': 0.2787, \"Natalie/Agent Romanoff/Natasha (We'll stick with Natasha from now on)\": 0.5719, 'Howard (on video)': 0.9118, 'Man (out of sight)': 0.0, 'Howard': 0.40235, 'Tony [Spanish]': 0.0, 'Strawberry man': -0.055499999999999994, 'PA': -0.038275, 'Pepper (on phone)': 0.0, 'News reporter (on telly)': 0.3182, 'News reporter': -0.29015625, 'Justin (on phone from golf course)': 0.0, 'Technician': 0.0, 'Security guard': 0.0, 'Hammer security guard': 0.0, 'Second guard': 0.0, 'Announcement': 0.0, 'Police officer': 0.1659, 'Tony Stark (V.O.)': 0.063825, 'Maya Hansen': -0.22605524460300208, 'Aldrich Killian': 0.20482477210222982, 'Both': 0.0, 'Tony': 0.0, 'The Mandarin': -0.006860128784179687, 'News Reporter #1': -0.4939, 'News Reporter #2': 0.0, 'News Reporter #3': 0.296, 'News Reporter #4': -0.4144, 'President Ellis': 0.19818212890625, 'Bill Maher': -0.3612, 'Joan Rivers': 0.0, 'Erin': 0.11315, 'Little Boy': 0.0, \"Pepper's Assistant\": -0.037950000000000005, 'Savin': 0.13993054914474487, 'Taggert': 0.4252375, \"Happy's Nurse\": 0.1591, 'Hospital News Reporter': -0.5267, 'Pushy Tabloid Reporter': -0.6908, 'Computer Voice': 0.34, 'Harley Keener': -0.00023410961501485993, 'Mandarin Look-Out': 0.0, 'Brandt': 0.1339521484375, 'Mrs. Davis': 0.032440625, 'Rose Hills Sheriff': 0.040431250000000016, 'Rose Hill Christmas Tree Shopper': 0.296, 'Government Employee': 0.0, 'Vice President': 0.7117875, 'Thomas Richards': -0.296, 'Government Official #1': 0.0, 'Government Official #2': -0.11035, 'Military Aide': -0.232325, 'EMCEE': 0.41905, 'Elk Ridge': 0.2732, 'Crew': 0.3182, 'Cameraman': 0.1929015625, 'Gary': 0.1867763671875, 'Chad Davis': -0.1779, 'Vanessa': 0.0, 'Trevor Slattery': -0.30386572265624995, 'Guard #1': 0.24695, 'Guard #2': -0.07986250000000002, 'Alrich Killian': 0.0, 'Officer #2': 0.0, 'Heather': 0.22835, 'Tony Stark (V.O)': 0.58995, 'Nurse': 0.3729125, 'Quentin Beck / Mysterio': -0.034482003337895056, 'Betty Brant': -0.08808637504606356, 'Jason Ionello': 0.13559755859375, 'Michelle / MJ': 0.22409631537918975, 'Spider-Man': 0.3062, 'Happy': 0.0, 'Sean': 0.3612, 'Man 1': 0.4019, 'Woman 1': -0.0772, 'Man 2': 0.3252, 'Mr. Harrington': 0.4899719850329438, 'Mr. Dell': -0.4003138365417719, 'Flash Thompson': 0.022998613794488386, 'Flight Attendant': 0.0, 'Brad Davis': 0.32501749610900876, 'MJ [giggling]': 0.296, 'Attendant': -0.296, 'Student': 0.256125, 'Me Harrington': 0.0, 'Mr. Dell [to the students]': 0.0, 'Other students': 0.0, 'Shopkeeper': 0.0, 'Mysterio': -0.26335, 'Mr. Harrison': 0.108690625, 'Students': 0.39225, 'E.D.I.T.H.': 0.07245195147972555, 'Dimitri': 0.0, 'Female Agent': -0.142975, 'Classmate': 0.148, 'Some students': 0.0, 'Some other students': 0.0, 'At least one student': 0.05135, 'All students, except Peter Parker and Ned Leeds': 0.0, \"Mysterio's Crew\": -0.027171874999999998, 'Quentin Beck (vo)': 0.40641513671875, 'Obediah Stane': 0.0, 'William Ginther Riva': 0.1779378921508789, 'Janice': 0.0548, 'Quentin Beck': 0.0, 'Guterman': -0.1727, 'MJ (vo)': 0.4019, 'Quentin Beck (echoing)': 0.0, 'Dutch Football Hooligan #1': -0.0657, 'Dutch Football Hooligan #2': 0.074, 'Dutch Football Hooligan #3': 0.0, 'All Three': 0.4588, 'Cheese Farmer': 0.2679, 'Flash Thompson, over the phone': 0.0, 'Peter Parker, tossing a wrench in the air': 0.6369, 'Brad Davis, continuing': 0.6486, 'Flash Thompson, clearly recording it': 0.296, 'Bus Driver': 0.21075, 'Victoria': 0.0, 'Everyone in the class, except Mr. Harrington': 0.0, 'Unidentified female student': 0.0, 'Flash Thompson (vo)': -0.34, '---This part is not finished. We will be pleased if you help us complete the transcript. ': 0.4215, 'Both (Peter and MJ)': -0.6908, 'Betty Brant and Ned Leeds': -0.4215, 'Peter Parker (vo)': -0.6597, 'Voice': 0.0, 'Pat Kiernan': -0.72795, 'J. Jonah Jameson': 0.7618, 'Adrian Toomes / Vulture': -0.31834116578572397, 'Phineas Mason': -0.06213246028380453, 'Herman Schultz / Shocker': -0.20716310448478908, 'Jackson Brice': 0.12266243362426758, 'Anne Marie Hoag': -0.131775, 'DODC Agent': 0.08895, 'Worker': 0.0, 'News Anchor': 0.19975312499999998, \"Hey Happy just checking in. I'm out of school at 2\": 0.0, 'Principal Morita': 0.20555625, 'Cheerleader': -0.4754, 'Girl': 0.144425, 'Ms. Warren': 0.075371875, 'Mr. Cobbwell': 0.6652, 'Liz': 0.2880480934926019, 'Charles': 0.2297748046875, 'Abraham': -0.5087087890624999, 'Cindy': -0.083578125, 'Sally': 0.0, 'Mr. Delmar': 0.32448828125, 'Deli Clerk': 0.148, 'Street Vendor': 0.204575, 'Car Jacker': -0.2787, 'Marjorie': 0.0, 'Day Sleeper': 0.0, 'Old Man': 0.0, 'Resident 1': -0.5859, 'Resident 2': 0.0, 'Gary Weeks': 0.0, 'Voicemail': 0.1027, 'Robber 1': 0.22325, 'Robber 2': 0.2263, 'Robber 3': 0.4215, 'Robber 4': 0.3612, '911 Operator': -0.3818, 'Thai Waiter': 0.0, 'History Teacher': 0.0, 'Coach Wilson': -0.13038750000000002, 'Annie': 0.0, 'Male Voice': 0.0, 'Aaron Davis': 0.16939443311691282, 'Tent Kids': 0.0, 'Friday': -0.296, 'Crowd': 0.0, 'Mr. Hapgood': 0.3818, 'Tiny': 0.0, 'Randy': -0.15613749999999998, 'Friend': 0.0, 'Karen / Suit Lady': 0.34949439327211035, 'DODC Central': 0.0, 'DODC Driver': 0.0, 'Vulture': 0.3182125, 'Moderator': 0.31320000000000003, 'Tour Guide': 0.29500000000000004, 'Tourist': 0.0, 'Park Ranger': 0.334225, 'KAREN Karen / Suit Lady': 0.0, 'Police': 0.08249999999999999, 'Doris Toomes': 0.3553810791015625, 'Families': 0.2732, 'Jason/Betty Brant': 0.0516, 'FBI Agent 1': 0.0129, 'FBI Agent 2': 0.0, 'Spanish Teacher': 0.4927, 'Tech': 0.4019, 'The flames have died out a little. A search party is scouring the beach. Happy finds Vulture tied to a pile of crates with spiderweb. A note is attached beside him': -0.2654, 'Decathlon Team': 0.296, 'Mac Gargan': 0.8756, 'CUT TO': 0.0, 'THE OTHER': -0.45235078125, 'NASA SCIENCETIST': 0.0, 'General Luchkov': -0.1581, 'Weasely Thug': 0.0, 'ATTENDING WOMAN': 0.0, 'Little Girl': 0.1591, 'COUNCIL MEMBER 1': 0.13506875000000002, 'COUNCIL MEMBER 2': -0.125, 'SHIELD SCIENCETIST': 0.3275, 'AGENT JASPER SITWELL': 0.0, 'Elder German Man': 0.04285, 'NICK FURY': -0.1366, \"TONY (CONT'D) (TO THOR)\": -0.6251, 'TONY ': -0.539, 'LOKI (V.O.)': -0.9246, 'SHIELD BASE VOICE': 0.3182, 'OUTSIDE THE HELICARRIER': 0.0, 'GALAGA PLAYER': -0.0644, 'Tony Stark': 0.0, 'Helmsman': -0.05435000000000004, 'CAPTAIN AMERICA': 0.2023, 'Agent Jasper Sitwell': -0.1591, 'ESCORT 0-6 PILOT (V.O.)': 0.0, 'ESCORT 606 PILOT': -0.18155000000000002, 'AGENT JASPER SITWELL (O.S.)': -0.3182, 'NICK FURY (V.O.)': -0.047725, 'STEVE (V.O.)': 0.0, 'SHIELD AGENT (V.O.)': 0.0, 'Security Guard': 0.1420453125, 'YOUNG SHIELD PILOT': 0.0, 'BLACK WIDOW (V.O.)': 0.0, 'CAPTAIN AMERICA (V.O.)': 0.0, 'YOUNG COP': 0.0, 'POLICE SERGEANT': -0.1702, 'WORLD SECURITY COUNCIL #2': -0.334775, 'WORLD SECURITY COUNCIL #1': -0.27840937499999996, 'PILOT': 0.0, 'IRON MAN (V.O.)': -0.148, '7 ALPHA 11': 0.0, 'OLD MAN (STAN LEE)': 0.0, 'Senator Boynton': -0.1082, 'Waitress': 0.3818, 'WORLD SECURITY COUNCIL #3': 0.0, 'The Other': -0.2732, 'Jane Foster': 0.009981741472751538, 'Darcy Lewis': 0.18857476424978675, 'Odin': 0.14947441812864892, 'the Hall.': 0.9413, 'Fandral': -0.3137868653434065, 'Sif': 0.14486271481228413, 'Volstagg': -0.10551036766704469, 'the palace.': 0.0, 'MJOLNIR': 0.8415, 'authority.': 0.0, 'and BLUE-SKINNED.': -0.7814, 'stop short.': -0.948, 'massive tables.': 0.0, 'Hogun': -0.33534858398437495, 'Laufey': 0.5322237100601197, 'them off.': 0.0, 'ODIN ALLFATHER': 0.4588, 'Admissions Nurse': -0.151025, 'Orderly': -0.6808, 'Townie': 0.0, 'BAM!': -0.6486, 'cell phones.': 0.7925, 'EAGER TOWNIE': 0.2264, 'crater.': 0.2732, 'Isabela': 0.2294, 'TOWNIE PETE': 0.1591, 'PETE': 0.0258, 'Librarian': 0.0, 'complex.': 0.3818, 'TECHIE': 0.0555625, 'Agent Delancey': -0.6705, 'SHIELD AGENT': 0.0, 'his view.': -0.8442, 'do it?': -0.9032, 'DRUNK TOWNIE': -0.1488375, 'EINHERJAR GUARD': 0.0129, 'Agent Garrett': 0.0386, 'Agent Cale': 0.0, 'Isabel': -0.10667500000000002, 'AGENT GARRETT': 0.0, 'AGENT CALE': 0.0, 'utensils away.': 0.0, 'the moment.': 0.0, 'Kurse': 0.0, 'Malekith': -0.05796878755390645, 'Asgardian Einherjar': -0.5423, 'Bor': 0.5927, 'Richard': -0.05471376686096191, 'Ian Boothby': 0.18366747612953188, 'Stonehenge TV News Reporter': 0.6249, 'Maddie': 0.0, 'Navid': 0.0, 'Police Officer #1': 0.0, 'Police Officer #2': -0.119175, 'Algrim': -0.230909375, 'Eir': 0.100475, 'Asgardian Nurse': 0.3919, 'Erik Selvig': 0.028422490540146828, 'Patient': 0.296, 'Einherjar Lieutenant': 0.0, 'Guards': 0.0, 'Desk Officer': 0.0, 'Einherjar Guard': -0.005699999999999997, 'Control': -0.1909, 'Woman on Train': -0.1531, \"Collector's Assistant\": 0.0, 'Darcy': -0.09614999999999999, 'Ian': 0.148, 'Jane': 0.01526796875, 'Surtur': -0.4922261474609375, 'Skurge': 0.00023572883605956635, 'ASGARDIAN WOMAN': 0.2023, 'DR. Dr. Stephen Strange': 0.0, 'Hela': 0.310070188012282, 'LEAD SCRAPPER': 0.038275, 'SCRAPPER': 0.0, 'Grandmaster': 0.26702767409438954, 'Topaz': -0.2787, 'COUSIN CARLO': 0.4312, 'Warden': 0.0, 'CROWD': 0.0, 'LOKI': 0.2732, 'ASGARDIAN CITIZENS': 0.2235, 'ASGARDIAN MAN': 0.0}\n"
     ]
    }
   ],
   "source": [
    "print(sentiment)"
   ]
  },
  {
   "cell_type": "code",
   "execution_count": null,
   "metadata": {},
   "outputs": [],
   "source": []
  }
 ],
 "metadata": {
  "kernelspec": {
   "display_name": "Python 3",
   "language": "python",
   "name": "python3"
  },
  "language_info": {
   "codemirror_mode": {
    "name": "ipython",
    "version": 3
   },
   "file_extension": ".py",
   "mimetype": "text/x-python",
   "name": "python",
   "nbconvert_exporter": "python",
   "pygments_lexer": "ipython3",
   "version": "3.7.6"
  }
 },
 "nbformat": 4,
 "nbformat_minor": 4
}
